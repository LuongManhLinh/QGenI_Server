{
 "cells": [
  {
   "cell_type": "code",
   "execution_count": 41,
   "metadata": {},
   "outputs": [],
   "source": [
    "import pandas as pd\n",
    "from numpy import dot\n",
    "from numpy.linalg import norm\n",
    "from sentence_transformers import SentenceTransformer\n",
    "from transformers import T5Tokenizer"
   ]
  },
  {
   "cell_type": "code",
   "execution_count": 42,
   "metadata": {},
   "outputs": [],
   "source": [
    "df = pd.read_csv('data/tfn_base.csv')"
   ]
  },
  {
   "cell_type": "code",
   "execution_count": 43,
   "metadata": {},
   "outputs": [],
   "source": [
    "def cosine_similarity(a, b):\n",
    "    return dot(a, b)/(norm(a)*norm(b))"
   ]
  },
  {
   "cell_type": "code",
   "execution_count": 44,
   "metadata": {},
   "outputs": [],
   "source": [
    "def split_text_into_chunks(tokenizer, text, max_tokens=100):\n",
    "    sentences = text.split('. ')\n",
    "    current_chunk = \"\"\n",
    "    chunks = []\n",
    "\n",
    "    for sentence in sentences:\n",
    "        # Add the sentence to the current chunk\n",
    "        test_chunk = current_chunk + ('. ' if current_chunk else '') + sentence\n",
    "        \n",
    "        # Tokenize the chunk and check its length\n",
    "        tokenized_chunk = tokenizer.encode(test_chunk, add_special_tokens=False)\n",
    "        if len(tokenized_chunk) <= max_tokens:\n",
    "            current_chunk = test_chunk\n",
    "        else:\n",
    "            # Add the current chunk to the list and start a new chunk\n",
    "            chunks.append(current_chunk)\n",
    "            current_chunk = sentence  # Start a new chunk with the current sentence\n",
    "\n",
    "    # Add the last chunk if it exists\n",
    "    if current_chunk:\n",
    "        chunks.append(current_chunk)\n",
    "\n",
    "    return chunks"
   ]
  },
  {
   "cell_type": "code",
   "execution_count": 45,
   "metadata": {},
   "outputs": [],
   "source": [
    "tokenizer = T5Tokenizer.from_pretrained('google/flan-t5-base')\n",
    "model = SentenceTransformer('sentence-transformers/all-MiniLM-L6-v2')"
   ]
  },
  {
   "cell_type": "code",
   "execution_count": 46,
   "metadata": {},
   "outputs": [
    {
     "name": "stdout",
     "output_type": "stream",
     "text": [
      "Longest token count for a Passage 412\n"
     ]
    }
   ],
   "source": [
    "curr_passage = \"\"\n",
    "chunks = []\n",
    "longest_token_cnt = 0\n",
    "for row_idx, row in df.iterrows():\n",
    "    passage = row['Passage']\n",
    "    statement = row['Statement']\n",
    "    \n",
    "    if passage.strip() != 'a':\n",
    "        curr_passage = passage\n",
    "        chunks = split_text_into_chunks(tokenizer, curr_passage)\n",
    "\n",
    "    encoded_statement = model.encode(statement)\n",
    "\n",
    "    similarities = []\n",
    "    for idx, chunk in enumerate(chunks):\n",
    "        similarities.append(\n",
    "            (\n",
    "                cosine_similarity(\n",
    "                    encoded_statement,\n",
    "                    model.encode(chunk)\n",
    "                ),\n",
    "                idx\n",
    "            )\n",
    "        )\n",
    "\n",
    "    similarities.sort(reverse=True)\n",
    "    \n",
    "    new_passage = []\n",
    "    token_cnt = 0\n",
    "    for similarity, idx in similarities:\n",
    "        chunk = chunks[idx]\n",
    "        chunk_len = len(tokenizer.encode(chunk, add_special_tokens=False))\n",
    "\n",
    "        if token_cnt + chunk_len > 412:\n",
    "            break\n",
    "        \n",
    "        token_cnt += chunk_len\n",
    "        new_passage.append(chunk)\n",
    "    \n",
    "    if token_cnt > longest_token_cnt:\n",
    "        longest_token_cnt = token_cnt\n",
    "        \n",
    "    if len(new_passage) == 0:\n",
    "        new_passage.append(chunks[similarities[0][1]])\n",
    "    \n",
    "    df.at[row_idx, 'Passage'] = '\\n'.join(new_passage)\n",
    "\n",
    "print(\"Longest token count for a Passage\", longest_token_cnt)"
   ]
  },
  {
   "cell_type": "code",
   "execution_count": 47,
   "metadata": {},
   "outputs": [],
   "source": [
    "df.to_csv('data/tfn_data_v2.csv', index=False)"
   ]
  }
 ],
 "metadata": {
  "kernelspec": {
   "display_name": ".venv",
   "language": "python",
   "name": "python3"
  },
  "language_info": {
   "codemirror_mode": {
    "name": "ipython",
    "version": 3
   },
   "file_extension": ".py",
   "mimetype": "text/x-python",
   "name": "python",
   "nbconvert_exporter": "python",
   "pygments_lexer": "ipython3",
   "version": "3.12.3"
  }
 },
 "nbformat": 4,
 "nbformat_minor": 2
}
