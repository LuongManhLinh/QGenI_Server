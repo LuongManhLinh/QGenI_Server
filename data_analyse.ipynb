{
 "cells": [
  {
   "cell_type": "code",
   "execution_count": null,
   "metadata": {},
   "outputs": [],
   "source": [
    "import pandas as pd\n",
    "\n",
    "df = pd.read_csv('data/tfn ielts data.csv')\n",
    "current_passage = \"\"\n",
    "for idx, row in df.iterrows():\n",
    "    if row['Passage'].strip() == 'a':\n",
    "        row['Passage'] = current_passage\n",
    "        df.loc[idx] = row\n",
    "    else:\n",
    "        current_passage = row['Passage']\n",
    "\n",
    "df.to_csv('data/tfn ielts data fixed.csv', index=False) \n"
   ]
  },
  {
   "cell_type": "code",
   "execution_count": 2,
   "metadata": {},
   "outputs": [],
   "source": [
    "import pandas as pd\n",
    "from transformers import T5Tokenizer\n",
    "\n",
    "df = pd.read_csv('data/tfn_data_v2.csv')\n",
    "tokenizer = T5Tokenizer.from_pretrained('google/flan-t5-base')\n",
    "for idx, row in df.iterrows():\n",
    "    p = row['Passage']\n",
    "    tokens = tokenizer.encode(p, add_special_tokens=False)\n",
    "    if len(tokens) > 412:\n",
    "        print(idx, len(tokens))"
   ]
  },
  {
   "cell_type": "code",
   "execution_count": 1,
   "metadata": {},
   "outputs": [],
   "source": [
    "import pandas as pd\n",
    "from sklearn.model_selection import train_test_split\n",
    "\n",
    "df = pd.read_csv('data/tfn_data_v2.csv')\n",
    "train_df, test_df = train_test_split(df, test_size=0.15, random_state=42)\n",
    "\n",
    "train_df.to_csv('data/tfn_train.csv', index=False)\n",
    "test_df.to_csv('data/tfn_test.csv', index=False)"
   ]
  },
  {
   "cell_type": "code",
   "execution_count": 2,
   "metadata": {},
   "outputs": [
    {
     "name": "stdout",
     "output_type": "stream",
     "text": [
      "Passage:\n",
      "The sky is blue.\n",
      "Statement: \n",
      "The sky is red.\n",
      "\n",
      "Q: \n",
      "If the is not relevant to the passage, say 'Not Given'.\n",
      "Otherwise, if the statement is true to the passage, say 'True', and if the statement is false to the passage, say 'False'.\n",
      "\n"
     ]
    }
   ],
   "source": [
    "def get_prompt(passage, statement):\n",
    "    return f\"\"\"Passage:\n",
    "{passage}\n",
    "Statement: \n",
    "{statement}\n",
    "\n",
    "Q: \n",
    "If the is not relevant to the passage, say 'Not Given'.\n",
    "Otherwise, if the statement is true to the passage, say 'True', and if the statement is false to the passage, say 'False'.\n",
    "\"\"\"\n",
    "\n",
    "print(get_prompt('The sky is blue.', 'The sky is red.'))"
   ]
  }
 ],
 "metadata": {
  "kernelspec": {
   "display_name": ".venv",
   "language": "python",
   "name": "python3"
  },
  "language_info": {
   "codemirror_mode": {
    "name": "ipython",
    "version": 3
   },
   "file_extension": ".py",
   "mimetype": "text/x-python",
   "name": "python",
   "nbconvert_exporter": "python",
   "pygments_lexer": "ipython3",
   "version": "3.12.3"
  }
 },
 "nbformat": 4,
 "nbformat_minor": 2
}
